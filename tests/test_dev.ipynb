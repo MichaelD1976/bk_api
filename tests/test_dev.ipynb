{
 "cells": [
  {
   "cell_type": "markdown",
   "id": "cdf848c5",
   "metadata": {},
   "source": [
    "### Notebook tests for functions"
   ]
  },
  {
   "cell_type": "code",
   "execution_count": null,
   "id": "584f9589",
   "metadata": {},
   "outputs": [],
   "source": [
    "from functions.goals import calc_exp_team_gls_from_1x2_ou"
   ]
  },
  {
   "cell_type": "markdown",
   "id": "2d871b5b",
   "metadata": {},
   "source": []
  }
 ],
 "metadata": {
  "language_info": {
   "name": "python"
  }
 },
 "nbformat": 4,
 "nbformat_minor": 5
}
